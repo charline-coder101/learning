{
 "cells": [
  {
   "cell_type": "markdown",
   "id": "a5b8fc7d",
   "metadata": {},
   "source": [
    "# 数据读取"
   ]
  },
  {
   "cell_type": "code",
   "execution_count": 1,
   "id": "06457ab3",
   "metadata": {},
   "outputs": [],
   "source": [
    "import numpy as np\n",
    "import pandas as pd\n",
    "import random\n",
    "import matplotlib.pyplot as plt\n",
    "plt.rcParams['font.sans-serif'] = ['SimHei']#设置中文字体为黑体\n",
    "plt.rcParams['axes.unicode_minus'] = False #正常显示负号"
   ]
  },
  {
   "cell_type": "code",
   "execution_count": 2,
   "id": "271493f7",
   "metadata": {
    "scrolled": false
   },
   "outputs": [
    {
     "data": {
      "text/html": [
       "<div>\n",
       "<style scoped>\n",
       "    .dataframe tbody tr th:only-of-type {\n",
       "        vertical-align: middle;\n",
       "    }\n",
       "\n",
       "    .dataframe tbody tr th {\n",
       "        vertical-align: top;\n",
       "    }\n",
       "\n",
       "    .dataframe thead th {\n",
       "        text-align: right;\n",
       "    }\n",
       "</style>\n",
       "<table border=\"1\" class=\"dataframe\">\n",
       "  <thead>\n",
       "    <tr style=\"text-align: right;\">\n",
       "      <th></th>\n",
       "      <th>点击率</th>\n",
       "      <th>转化率</th>\n",
       "      <th>成交率</th>\n",
       "      <th>加购率</th>\n",
       "      <th>收藏率</th>\n",
       "      <th>综合成交ROI</th>\n",
       "      <th>计划全名称</th>\n",
       "      <th>投放日期</th>\n",
       "      <th>品牌名称</th>\n",
       "      <th>byhe</th>\n",
       "      <th>mxwl</th>\n",
       "      <th>pcbd</th>\n",
       "    </tr>\n",
       "  </thead>\n",
       "  <tbody>\n",
       "    <tr>\n",
       "      <th>0</th>\n",
       "      <td>0.010</td>\n",
       "      <td>0.253</td>\n",
       "      <td>0.003</td>\n",
       "      <td>0.138</td>\n",
       "      <td>0.023</td>\n",
       "      <td>0.13</td>\n",
       "      <td>byhe,2021-02-23,kolMT1,D5pro15'D5pro16,IOS_150...</td>\n",
       "      <td>2021-05-01</td>\n",
       "      <td>byhe</td>\n",
       "      <td>1</td>\n",
       "      <td>0</td>\n",
       "      <td>0</td>\n",
       "    </tr>\n",
       "    <tr>\n",
       "      <th>1</th>\n",
       "      <td>0.021</td>\n",
       "      <td>0.149</td>\n",
       "      <td>0.016</td>\n",
       "      <td>0.111</td>\n",
       "      <td>0.000</td>\n",
       "      <td>0.10</td>\n",
       "      <td>byhe,2021-03-23,XDZ01,D5pro3'D5pro4,IOS_GNJQ_pro1</td>\n",
       "      <td>2021-05-01</td>\n",
       "      <td>byhe</td>\n",
       "      <td>1</td>\n",
       "      <td>0</td>\n",
       "      <td>0</td>\n",
       "    </tr>\n",
       "    <tr>\n",
       "      <th>2</th>\n",
       "      <td>0.010</td>\n",
       "      <td>0.189</td>\n",
       "      <td>0.053</td>\n",
       "      <td>0.113</td>\n",
       "      <td>0.013</td>\n",
       "      <td>0.74</td>\n",
       "      <td>byhe,2021-03-23,XDZ01,D5pro5'D5pro6,IOS_LS_pro1</td>\n",
       "      <td>2021-05-01</td>\n",
       "      <td>byhe</td>\n",
       "      <td>1</td>\n",
       "      <td>0</td>\n",
       "      <td>0</td>\n",
       "    </tr>\n",
       "    <tr>\n",
       "      <th>3</th>\n",
       "      <td>0.013</td>\n",
       "      <td>0.178</td>\n",
       "      <td>0.000</td>\n",
       "      <td>0.122</td>\n",
       "      <td>0.061</td>\n",
       "      <td>0.00</td>\n",
       "      <td>byhe,2021-04-07,XDZ01,D5pro50'D5pro51,IOS_KJJQ...</td>\n",
       "      <td>2021-05-01</td>\n",
       "      <td>byhe</td>\n",
       "      <td>1</td>\n",
       "      <td>0</td>\n",
       "      <td>0</td>\n",
       "    </tr>\n",
       "    <tr>\n",
       "      <th>4</th>\n",
       "      <td>0.013</td>\n",
       "      <td>0.409</td>\n",
       "      <td>0.042</td>\n",
       "      <td>0.130</td>\n",
       "      <td>0.000</td>\n",
       "      <td>0.96</td>\n",
       "      <td>byhe,2021-04-07,XDZ01,D5pro55'D5pro49,IOS_GNJQ...</td>\n",
       "      <td>2021-05-01</td>\n",
       "      <td>byhe</td>\n",
       "      <td>1</td>\n",
       "      <td>0</td>\n",
       "      <td>0</td>\n",
       "    </tr>\n",
       "  </tbody>\n",
       "</table>\n",
       "</div>"
      ],
      "text/plain": [
       "     点击率    转化率    成交率    加购率    收藏率  综合成交ROI  \\\n",
       "0  0.010  0.253  0.003  0.138  0.023     0.13   \n",
       "1  0.021  0.149  0.016  0.111  0.000     0.10   \n",
       "2  0.010  0.189  0.053  0.113  0.013     0.74   \n",
       "3  0.013  0.178  0.000  0.122  0.061     0.00   \n",
       "4  0.013  0.409  0.042  0.130  0.000     0.96   \n",
       "\n",
       "                                               计划全名称        投放日期  品牌名称  byhe  \\\n",
       "0  byhe,2021-02-23,kolMT1,D5pro15'D5pro16,IOS_150...  2021-05-01  byhe     1   \n",
       "1  byhe,2021-03-23,XDZ01,D5pro3'D5pro4,IOS_GNJQ_pro1  2021-05-01  byhe     1   \n",
       "2    byhe,2021-03-23,XDZ01,D5pro5'D5pro6,IOS_LS_pro1  2021-05-01  byhe     1   \n",
       "3  byhe,2021-04-07,XDZ01,D5pro50'D5pro51,IOS_KJJQ...  2021-05-01  byhe     1   \n",
       "4  byhe,2021-04-07,XDZ01,D5pro55'D5pro49,IOS_GNJQ...  2021-05-01  byhe     1   \n",
       "\n",
       "   mxwl  pcbd  \n",
       "0     0     0  \n",
       "1     0     0  \n",
       "2     0     0  \n",
       "3     0     0  \n",
       "4     0     0  "
      ]
     },
     "execution_count": 2,
     "metadata": {},
     "output_type": "execute_result"
    }
   ],
   "source": [
    "path =  'final.csv'\n",
    "data = pd.read_csv(path,encoding='gbk')\n",
    "data.head()"
   ]
  },
  {
   "cell_type": "code",
   "execution_count": 3,
   "id": "a831eaa5",
   "metadata": {
    "scrolled": false
   },
   "outputs": [
    {
     "data": {
      "text/plain": [
       "<matplotlib.collections.PathCollection at 0x26e3426de50>"
      ]
     },
     "execution_count": 3,
     "metadata": {},
     "output_type": "execute_result"
    },
    {
     "data": {
      "image/png": "[encoded data removed]",
      "text/plain": [
       "<Figure size 432x288 with 1 Axes>"
      ]
     },
     "metadata": {
      "needs_background": "light"
     },
     "output_type": "display_data"
    }
   ],
   "source": [
    "plt.scatter(data.成交率[data.成交率>0],data.综合成交ROI[data.成交率>0])"
   ]
  },
  {
   "cell_type": "markdown",
   "id": "cd2d1a0e",
   "metadata": {},
   "source": [
    "## 特征x与目标y选择"
   ]
  },
  {
   "cell_type": "code",
   "execution_count": 4,
   "id": "61da6c42",
   "metadata": {},
   "outputs": [],
   "source": [
    "\"一元线性回归，拥有两个参数，一个为点击率的参数，一个为截距。所以这里我们创建一列名为Ones的列，用于乘以截距\"\n",
    "data['Ones'] = 1 #创建一个名为Ones的字段，内容全是1\n",
    "X = data.成交率[data.成交率>0].reset_index(drop=True) \n",
    "X = np.column_stack([data['Ones'][:len(X)],X]) # ones与点击率作为我们的输入 X ， 通过column_stack将他俩拼在一起\n",
    "y = data.综合成交ROI[data.成交率>0].reset_index(drop=True) # 综合成交ROI作为我们的预测对象 y"
   ]
  },
  {
   "cell_type": "code",
   "execution_count": 5,
   "id": "99bc68af",
   "metadata": {},
   "outputs": [],
   "source": [
    "\"对X,y转换为矩阵，方便我们在梯度下降的时候使用矩阵运算\"\n",
    "X = np.matrix(X) #将X转换为矩阵类型matrix\n",
    "y = np.matrix(y).reshape(-1,1) #将y转换为矩阵类型matrix\n",
    "theta = np.matrix(np.array([0,0])) #初始化我们的参数θ，为[0,0]，也是矩阵类型matrix"
   ]
  },
  {
   "cell_type": "markdown",
   "id": "2f4018ec",
   "metadata": {},
   "source": [
    "# 代价函数"
   ]
  },
  {
   "cell_type": "code",
   "execution_count": 6,
   "id": "2c948a09",
   "metadata": {},
   "outputs": [],
   "source": [
    "\"\"\"\n",
    "总体误差平方和\n",
    "\"\"\"\n",
    "def computeCost(X, y, theta):\n",
    "    cost = np.power(((X * theta.T) - y), 2) #每个样本与真实值的差 再做平方\n",
    "    return np.sum(cost) / (2 * len(X)) # 总体误差平方和 / 2m"
   ]
  },
  {
   "cell_type": "markdown",
   "id": "52f59d70",
   "metadata": {},
   "source": [
    "# 梯度下降"
   ]
  },
  {
   "cell_type": "markdown",
   "id": "c1a0948b",
   "metadata": {},
   "source": [
    "error = (X * theta.T) - y:\n",
    "$${{\\left( {{h}_{\\theta }}\\left( {{x}^{(i)}} \\right)-{{y}^{(i)}} \\right)}^{2}}$$   \n",
    "mul = np.multiply(error, X[:,j]):$${{\\left( {{h}_{\\theta }}\\left( {{x}^{(i)}} \\right)-{{y}^{(i)}} \\right)}^{2}}{{x}^{(j)}}$$  \n",
    "temp[0,j] = theta[0,j] - ((alpha / len(X)) * np.sum(mul)):$${{\\theta }_{j}}:={{\\theta }_{j}}-\\alpha\\frac{1}{2m}\\sum\\limits_{i=1}^{m} {{\\left( {{h}_{\\theta }}\\left( {{x}^{(i)}} \\right)-{{y}^{(i)}} \\right)}^{2}}\\left( {{x}^{(j)}} \\right)$$"
   ]
  },
  {
   "cell_type": "code",
   "execution_count": 7,
   "id": "d024a80e",
   "metadata": {},
   "outputs": [],
   "source": [
    "\"迭代iters次theta，返回最后一次更新的theta与每组的Cost\"\n",
    "def gradientDescent(X, y, theta, alpha, iters):\n",
    "    temp = np.matrix(np.zeros(theta.shape)) #temp顾名思义，临时的意思，用来暂存更新好的参数θ\n",
    "    parameters = int(theta.shape[1]) #参数个数，来作为循环条件，有多少个，我们就循环更新多少次\n",
    "    cost = np.zeros(iters) #用来装损失值的数组，每循环一次我们就计算一次\n",
    "    \n",
    "    for i in range(iters):\n",
    "        error = (X * theta.T) - y # error：预测值与真实值的误差 \n",
    "        for j in range(parameters):\n",
    "            mul = np.multiply(error, X[:,j]) # error与Xj的乘积\n",
    "            temp[0,j] = theta[0,j] - ((alpha / len(X)) * np.sum(mul)) # 参数更新公式（完全体）\n",
    "            \n",
    "        theta = temp # 将更新好的参数覆盖到theta\n",
    "        cost[i] = computeCost(X, y, theta) #存储这次循环的损失值\n",
    "        \n",
    "    return theta, cost"
   ]
  },
  {
   "cell_type": "code",
   "execution_count": 8,
   "id": "298b2ece",
   "metadata": {},
   "outputs": [],
   "source": [
    "g , c = gradientDescent(X, y, theta, 0.001, iters=1000)"
   ]
  },
  {
   "cell_type": "code",
   "execution_count": 9,
   "id": "bbc7e6e6",
   "metadata": {
    "scrolled": false
   },
   "outputs": [
    {
     "data": {
      "image/png": "[encoded data removed]",
      "text/plain": [
       "<Figure size 864x576 with 1 Axes>"
      ]
     },
     "metadata": {
      "needs_background": "light"
     },
     "output_type": "display_data"
    }
   ],
   "source": [
    "x = np.linspace(data.成交率.min(), data.成交率.max(), 10) #成交率的范围内，取10个数，用于计算出拟合的直线\n",
    "f = g[0, 0] + (g[0, 1] * x) # f 是我们的线性方程， g[0,0]和g[0,1]分别为θ0和θ1 。把他看成 y = b + ax 就好理解了\n",
    "\n",
    "fig, ax = plt.subplots(figsize=(12,8))\n",
    "ax.plot(x, f, 'r', label='线性方程')\n",
    "ax.scatter(data.成交率, data.综合成交ROI, label='样本数据')\n",
    "ax.legend(loc=2)\n",
    "ax.set_xlabel('成交率')\n",
    "ax.set_ylabel('综合成交ROI')\n",
    "plt.show()"
   ]
  },
  {
   "cell_type": "markdown",
   "id": "714e2b61",
   "metadata": {},
   "source": [
    "# scikti-learn用法"
   ]
  },
  {
   "cell_type": "code",
   "execution_count": 10,
   "id": "41fa63e0",
   "metadata": {},
   "outputs": [
    {
     "data": {
      "text/plain": [
       "LinearRegression()"
      ]
     },
     "execution_count": 10,
     "metadata": {},
     "output_type": "execute_result"
    }
   ],
   "source": [
    "from sklearn.linear_model import LinearRegression\n",
    "model = LinearRegression() #使变量model为线性回归模型\n",
    "model.fit(np.array(data.成交率).reshape(-1,1),np.array(data.综合成交ROI).reshape(-1,1)) #拟合模型"
   ]
  },
  {
   "cell_type": "code",
   "execution_count": 11,
   "id": "265d2399",
   "metadata": {
    "scrolled": true
   },
   "outputs": [
    {
     "data": {
      "text/plain": [
       "<matplotlib.collections.PathCollection at 0x2ee18df47c0>"
      ]
     },
     "execution_count": 11,
     "metadata": {},
     "output_type": "execute_result"
    },
    {
     "data": {
      "image/png": "[encoded data removed]",
      "text/plain": [
       "<Figure size 432x288 with 1 Axes>"
      ]
     },
     "metadata": {
      "needs_background": "light"
     },
     "output_type": "display_data"
    }
   ],
   "source": [
    "plt.plot(x,model.predict(x.reshape(-1,1)),c = 'r')\n",
    "plt.scatter(np.array(data.成交率),np.array(data.综合成交ROI),c='b')"
   ]
  },
  {
   "cell_type": "code",
   "execution_count": null,
   "id": "e14fb605",
   "metadata": {},
   "outputs": [],
   "source": []
  }
 ],
 "metadata": {
  "kernelspec": {
   "display_name": "Python 3",
   "language": "python",
   "name": "python3"
  },
  "language_info": {
   "codemirror_mode": {
    "name": "ipython",
    "version": 3
   },
   "file_extension": ".py",
   "mimetype": "text/x-python",
   "name": "python",
   "nbconvert_exporter": "python",
   "pygments_lexer": "ipython3",
   "version": "3.8.8"
  },
  "toc": {
   "base_numbering": 1,
   "nav_menu": {},
   "number_sections": true,
   "sideBar": true,
   "skip_h1_title": false,
   "title_cell": "Table of Contents",
   "title_sidebar": "Contents",
   "toc_cell": false,
   "toc_position": {},
   "toc_section_display": true,
   "toc_window_display": false
  }
 },
 "nbformat": 4,
 "nbformat_minor": 5
}
