{
 "cells": [
  {
   "cell_type": "markdown",
   "id": "16b5b831",
   "metadata": {},
   "source": [
    "# 数据导入"
   ]
  },
  {
   "cell_type": "code",
   "execution_count": 1,
   "id": "3d767f82",
   "metadata": {},
   "outputs": [],
   "source": [
    "import numpy as np\n",
    "import pandas as pd\n",
    "import random"
   ]
  },
  {
   "cell_type": "code",
   "execution_count": 2,
   "id": "8779a8c9",
   "metadata": {},
   "outputs": [
    {
     "data": {
      "text/html": [
       "<div>\n",
       "<style scoped>\n",
       "    .dataframe tbody tr th:only-of-type {\n",
       "        vertical-align: middle;\n",
       "    }\n",
       "\n",
       "    .dataframe tbody tr th {\n",
       "        vertical-align: top;\n",
       "    }\n",
       "\n",
       "    .dataframe thead th {\n",
       "        text-align: right;\n",
       "    }\n",
       "</style>\n",
       "<table border=\"1\" class=\"dataframe\">\n",
       "  <thead>\n",
       "    <tr style=\"text-align: right;\">\n",
       "      <th></th>\n",
       "      <th>x1</th>\n",
       "      <th>x2</th>\n",
       "    </tr>\n",
       "  </thead>\n",
       "  <tbody>\n",
       "    <tr>\n",
       "      <th>0</th>\n",
       "      <td>5.8</td>\n",
       "      <td>12.4</td>\n",
       "    </tr>\n",
       "    <tr>\n",
       "      <th>1</th>\n",
       "      <td>7.8</td>\n",
       "      <td>13.7</td>\n",
       "    </tr>\n",
       "    <tr>\n",
       "      <th>2</th>\n",
       "      <td>8.5</td>\n",
       "      <td>13.7</td>\n",
       "    </tr>\n",
       "    <tr>\n",
       "      <th>3</th>\n",
       "      <td>1.4</td>\n",
       "      <td>10.2</td>\n",
       "    </tr>\n",
       "    <tr>\n",
       "      <th>4</th>\n",
       "      <td>3.9</td>\n",
       "      <td>27.9</td>\n",
       "    </tr>\n",
       "    <tr>\n",
       "      <th>...</th>\n",
       "      <td>...</td>\n",
       "      <td>...</td>\n",
       "    </tr>\n",
       "    <tr>\n",
       "      <th>95</th>\n",
       "      <td>6.9</td>\n",
       "      <td>19.3</td>\n",
       "    </tr>\n",
       "    <tr>\n",
       "      <th>96</th>\n",
       "      <td>3.8</td>\n",
       "      <td>25.3</td>\n",
       "    </tr>\n",
       "    <tr>\n",
       "      <th>97</th>\n",
       "      <td>8.9</td>\n",
       "      <td>27.0</td>\n",
       "    </tr>\n",
       "    <tr>\n",
       "      <th>98</th>\n",
       "      <td>8.9</td>\n",
       "      <td>20.9</td>\n",
       "    </tr>\n",
       "    <tr>\n",
       "      <th>99</th>\n",
       "      <td>7.4</td>\n",
       "      <td>27.2</td>\n",
       "    </tr>\n",
       "  </tbody>\n",
       "</table>\n",
       "<p>100 rows × 2 columns</p>\n",
       "</div>"
      ],
      "text/plain": [
       "     x1    x2\n",
       "0   5.8  12.4\n",
       "1   7.8  13.7\n",
       "2   8.5  13.7\n",
       "3   1.4  10.2\n",
       "4   3.9  27.9\n",
       "..  ...   ...\n",
       "95  6.9  19.3\n",
       "96  3.8  25.3\n",
       "97  8.9  27.0\n",
       "98  8.9  20.9\n",
       "99  7.4  27.2\n",
       "\n",
       "[100 rows x 2 columns]"
      ]
     },
     "execution_count": 2,
     "metadata": {},
     "output_type": "execute_result"
    }
   ],
   "source": [
    "data = pd.DataFrame({'x1':[round(random.uniform(1,10),1) for i in range(100)]\n",
    "             ,'x2':[round(random.uniform(10,30),1) for i in range(100)]})\n",
    "data"
   ]
  },
  {
   "cell_type": "markdown",
   "id": "ef2be346",
   "metadata": {},
   "source": [
    "# 随机初始化"
   ]
  },
  {
   "cell_type": "code",
   "execution_count": 3,
   "id": "2a52bbcf",
   "metadata": {},
   "outputs": [],
   "source": [
    "def random_init(data,n):\n",
    "    \"输入一份数据data，从中选取n个当簇心\"\n",
    "    return data.sample(n).values"
   ]
  },
  {
   "cell_type": "code",
   "execution_count": 4,
   "id": "1d06c5b4",
   "metadata": {
    "scrolled": false
   },
   "outputs": [
    {
     "data": {
      "text/plain": [
       "array([[ 8.8, 19. ],\n",
       "       [ 6.9, 19.3],\n",
       "       [ 4.5, 11.6]])"
      ]
     },
     "execution_count": 4,
     "metadata": {},
     "output_type": "execute_result"
    }
   ],
   "source": [
    "centroids = random_init(data,3)\n",
    "centroids"
   ]
  },
  {
   "cell_type": "markdown",
   "id": "785dbc19",
   "metadata": {},
   "source": [
    "# 簇心分配  \n",
    "注意，我们分配的是簇心的索引"
   ]
  },
  {
   "cell_type": "code",
   "execution_count": 5,
   "id": "6029059c",
   "metadata": {},
   "outputs": [],
   "source": [
    "def give_Centroids(data, centroids): #传入data:数据 ， centroids：簇心\n",
    "    \"\"\"\n",
    "    遍历计算簇心与数据样本的距离，\n",
    "    选出距离样本最近的簇心\n",
    "    将这个簇心的索引保留下来\n",
    "    \"\"\"\n",
    "    index = [] #用来保留样本对应簇心索引的列表\n",
    "    data = data.values \n",
    "    \n",
    "    for i in range(len(data)): #遍历每个样本\n",
    "        diff_ = np.sum(((data[i] - centroids)**2), axis=1) #计算每个簇心与样本之间的距离\n",
    "        distence_ = np.sqrt(diff_)\n",
    "        index.append(distence_.argmin()) #将距离最近的簇心索引保留下来\n",
    "    index = np.array(index) #转换一下类型\n",
    "\n",
    "    return index"
   ]
  },
  {
   "cell_type": "code",
   "execution_count": 6,
   "id": "28952d3a",
   "metadata": {
    "scrolled": true
   },
   "outputs": [
    {
     "data": {
      "text/plain": [
       "array([2, 2, 2, 2, 1, 2, 1, 1, 1, 1, 1, 1, 1, 1, 1, 1, 1, 0, 1, 2, 2, 0,\n",
       "       1, 1, 1, 2, 2, 0, 0, 1, 1, 2, 0, 1, 1, 1, 0, 1, 1, 1, 1, 1, 2, 1,\n",
       "       2, 1, 1, 1, 2, 1, 2, 1, 0, 2, 0, 1, 1, 1, 1, 1, 1, 0, 1, 2, 1, 2,\n",
       "       1, 0, 2, 2, 2, 2, 0, 0, 1, 2, 0, 1, 2, 1, 2, 1, 2, 1, 1, 1, 0, 2,\n",
       "       1, 0, 1, 1, 0, 2, 1, 1, 1, 1, 0, 1], dtype=int64)"
      ]
     },
     "execution_count": 6,
     "metadata": {},
     "output_type": "execute_result"
    }
   ],
   "source": [
    "index = give_Centroids(data,centroids)\n",
    "index"
   ]
  },
  {
   "cell_type": "markdown",
   "id": "391471ae",
   "metadata": {},
   "source": [
    "# 簇心移动"
   ]
  },
  {
   "cell_type": "code",
   "execution_count": 8,
   "id": "27f5a6f5",
   "metadata": {},
   "outputs": [],
   "source": [
    "\"\"\"\n",
    "每个簇心被重新赋值，等于每个簇内，样本的字段均值\n",
    "\"\"\"\n",
    "def move_Centroids(data, index , centroids): #传入data:数据 ， index：每个样本的类 ， centroids：簇心\n",
    "    data = data.values\n",
    "    new_centroid = np.zeros(np.shape(centroids)) #新簇心，里面的内容先定义为0，一会儿往里面赋值就好了\n",
    "    data_with_index = np.column_stack((index,data)) #将类与数据拼接在一起，相当于我们表格增加了一个字段\n",
    "                                                        #这个字段是每条数据对应的类\n",
    "    for i in range(len(new_centroid)): \n",
    "        new_centroid[i] = np.mean(data[data_with_index[:,0] == i], axis=0)#计算每个簇的簇内样本均值\n",
    "    \n",
    "    return new_centroid"
   ]
  },
  {
   "cell_type": "code",
   "execution_count": 9,
   "id": "78d0c2d3",
   "metadata": {
    "scrolled": true
   },
   "outputs": [],
   "source": [
    "new_centroid = move_Centroids(data,index,centroids)"
   ]
  },
  {
   "cell_type": "code",
   "execution_count": 10,
   "id": "7c510bfa",
   "metadata": {
    "scrolled": true
   },
   "outputs": [
    {
     "data": {
      "text/plain": [
       "array([[ 2.82307692, 26.83846154],\n",
       "       [ 6.97826087, 23.07608696],\n",
       "       [ 4.6       , 15.13414634]])"
      ]
     },
     "execution_count": 10,
     "metadata": {},
     "output_type": "execute_result"
    }
   ],
   "source": [
    "new_centroid"
   ]
  },
  {
   "cell_type": "markdown",
   "id": "190d7b58",
   "metadata": {},
   "source": [
    "# 损失函数"
   ]
  },
  {
   "cell_type": "code",
   "execution_count": 14,
   "id": "905f6da0",
   "metadata": {},
   "outputs": [],
   "source": [
    "\"\"\"\n",
    "每个样本与簇心的距离之和/样本数\n",
    "\"\"\"\n",
    "def cost(data,centroids,index):\n",
    "    centroids_of_data = centroids[index] #通过神奇索引,得到簇心的位置\n",
    "    diff = data - centroids_of_data #每个样本与簇心相减\n",
    "    distances = np.linalg.norm(diff) #欧氏距离\n",
    "    return distances.sum() / len(data) #距离/样本数"
   ]
  },
  {
   "cell_type": "code",
   "execution_count": 15,
   "id": "6928a349",
   "metadata": {
    "scrolled": false
   },
   "outputs": [
    {
     "data": {
      "text/plain": [
       "0.37883611203230566"
      ]
     },
     "execution_count": 15,
     "metadata": {},
     "output_type": "execute_result"
    }
   ],
   "source": [
    "cost(data,new_centroid,index)"
   ]
  },
  {
   "cell_type": "markdown",
   "id": "54ce940c",
   "metadata": {},
   "source": [
    "# 建模"
   ]
  },
  {
   "cell_type": "code",
   "execution_count": 16,
   "id": "a5d661f5",
   "metadata": {},
   "outputs": [],
   "source": [
    "#我们将上面的函数放在一起，就可以建模了\n",
    "def k_means_model(data, k, epoch=100, tol=0.0001):\n",
    "    \"\"\"\n",
    "   1 初始化簇心\n",
    "   2 循环开始：\n",
    "   2.1     给每个样本分配C 类\n",
    "   2.2     刷新簇心\n",
    "   2.3     存储cost\n",
    "   2.4     如果cost变化率小于0.01%那么停止循环\n",
    "   3 返回最终的 类，簇心数组，最终的cost\n",
    "    \"\"\"\n",
    "    \n",
    "    centroids = random_init(data, k)   # 1\n",
    "    cost_progress = []                 # 存储变化率的列表\n",
    "    \n",
    "    for i in range(epoch): #2循环开始\n",
    "        print('running epoch {}'.format(i))\n",
    "\n",
    "        index = give_Centroids(data, centroids)  #2.1把每个样本的聚类标签存放进index\n",
    "        centroids = move_Centroids(data, index ,centroids) #2.2将簇心移动的新位置赋予centroids\n",
    "        cost_progress.append(cost(data,centroids,index)) #2.3记录每一次簇心移动后的cost\n",
    "\n",
    "        if len(cost_progress) > 1:  \n",
    "            if (np.abs(cost_progress[-1] - cost_progress[-2])) / cost_progress[-1] < tol: #2.4变化率 (最后一次cost-前一次cost)/最后一次cost\n",
    "                break #跳出循环\n",
    "\n",
    "    return index, centroids, cost_progress[-1] #3"
   ]
  },
  {
   "cell_type": "code",
   "execution_count": 20,
   "id": "5f9e498f",
   "metadata": {},
   "outputs": [],
   "source": [
    "import matplotlib.pyplot as plt"
   ]
  },
  {
   "cell_type": "code",
   "execution_count": 22,
   "id": "44c07899",
   "metadata": {
    "scrolled": true
   },
   "outputs": [
    {
     "name": "stdout",
     "output_type": "stream",
     "text": [
      "running epoch 0\n",
      "running epoch 1\n",
      "running epoch 2\n",
      "running epoch 3\n",
      "running epoch 4\n",
      "running epoch 5\n",
      "running epoch 6\n",
      "running epoch 7\n",
      "running epoch 8\n",
      "running epoch 9\n"
     ]
    },
    {
     "data": {
      "image/png": "[encoded data removed]",
      "text/plain": [
       "<Figure size 432x288 with 1 Axes>"
      ]
     },
     "metadata": {
      "needs_background": "light"
     },
     "output_type": "display_data"
    }
   ],
   "source": [
    "scatter = plt.scatter(data.iloc[:,0].values,data.iloc[:,1].values,c = k_means_model(data,3)[0]) #行列分别为明今温差、后今温差，颜色为天气标签\n",
    "plt.legend(*scatter.legend_elements()) #显示图例\n",
    "plt.show()"
   ]
  },
  {
   "cell_type": "code",
   "execution_count": 17,
   "id": "191534cb",
   "metadata": {},
   "outputs": [],
   "source": [
    "# def literate_k_means(data, k, epoch=100, n_init=10):\n",
    "#     \"\"\"\n",
    "#     建模10次kmeans，并获取结果最好的那一组结果\n",
    "#     \"\"\"\n",
    "    \n",
    "#     tries = np.array([k_means_model(data, k) for _ in range(n_init)])\n",
    "#     least_cost_idx = np.argmin(tries[:, -1])\n",
    "\n",
    "#     return tries[least_cost_idx]"
   ]
  },
  {
   "cell_type": "markdown",
   "id": "4b9438b4",
   "metadata": {},
   "source": [
    "# scikit-learn用法"
   ]
  },
  {
   "cell_type": "code",
   "execution_count": 23,
   "id": "fde51722",
   "metadata": {},
   "outputs": [],
   "source": [
    "from sklearn.cluster import KMeans\n",
    "model = KMeans(n_clusters=3,random_state=1)\n",
    "predic = model.fit_predict(data)"
   ]
  },
  {
   "cell_type": "code",
   "execution_count": 24,
   "id": "76d369af",
   "metadata": {},
   "outputs": [
    {
     "data": {
      "image/png": "[encoded data removed]",
      "text/plain": [
       "<Figure size 432x288 with 1 Axes>"
      ]
     },
     "metadata": {
      "needs_background": "light"
     },
     "output_type": "display_data"
    }
   ],
   "source": [
    "scatter = plt.scatter(data['x1'],data['x2'],c=predic) \n",
    "plt.legend(*scatter.legend_elements()) #显示图例\n",
    "plt.show()"
   ]
  }
 ],
 "metadata": {
  "kernelspec": {
   "display_name": "Python [conda env:Tableau-Python-Server]",
   "language": "python",
   "name": "conda-env-Tableau-Python-Server-py"
  },
  "language_info": {
   "codemirror_mode": {
    "name": "ipython",
    "version": 3
   },
   "file_extension": ".py",
   "mimetype": "text/x-python",
   "name": "python",
   "nbconvert_exporter": "python",
   "pygments_lexer": "ipython3",
   "version": "3.7.10"
  },
  "toc": {
   "base_numbering": 1,
   "nav_menu": {},
   "number_sections": true,
   "sideBar": true,
   "skip_h1_title": false,
   "title_cell": "Table of Contents",
   "title_sidebar": "Contents",
   "toc_cell": false,
   "toc_position": {},
   "toc_section_display": true,
   "toc_window_display": false
  }
 },
 "nbformat": 4,
 "nbformat_minor": 5
}
