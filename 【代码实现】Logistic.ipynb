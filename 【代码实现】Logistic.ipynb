{
 "cells": [
  {
   "cell_type": "code",
   "execution_count": 3,
   "id": "d146c72e",
   "metadata": {},
   "outputs": [],
   "source": [
    "import numpy as np\n",
    "import pandas as pd"
   ]
  },
  {
   "cell_type": "code",
   "execution_count": 4,
   "id": "b5e58279",
   "metadata": {
    "scrolled": true
   },
   "outputs": [
    {
     "data": {
      "text/html": [
       "<div>\n",
       "<style scoped>\n",
       "    .dataframe tbody tr th:only-of-type {\n",
       "        vertical-align: middle;\n",
       "    }\n",
       "\n",
       "    .dataframe tbody tr th {\n",
       "        vertical-align: top;\n",
       "    }\n",
       "\n",
       "    .dataframe thead th {\n",
       "        text-align: right;\n",
       "    }\n",
       "</style>\n",
       "<table border=\"1\" class=\"dataframe\">\n",
       "  <thead>\n",
       "    <tr style=\"text-align: right;\">\n",
       "      <th></th>\n",
       "      <th>Exam 1</th>\n",
       "      <th>Exam 2</th>\n",
       "      <th>Admitted</th>\n",
       "    </tr>\n",
       "  </thead>\n",
       "  <tbody>\n",
       "    <tr>\n",
       "      <th>0</th>\n",
       "      <td>34.623660</td>\n",
       "      <td>78.024693</td>\n",
       "      <td>0</td>\n",
       "    </tr>\n",
       "    <tr>\n",
       "      <th>1</th>\n",
       "      <td>30.286711</td>\n",
       "      <td>43.894998</td>\n",
       "      <td>0</td>\n",
       "    </tr>\n",
       "    <tr>\n",
       "      <th>2</th>\n",
       "      <td>35.847409</td>\n",
       "      <td>72.902198</td>\n",
       "      <td>0</td>\n",
       "    </tr>\n",
       "    <tr>\n",
       "      <th>3</th>\n",
       "      <td>60.182599</td>\n",
       "      <td>86.308552</td>\n",
       "      <td>1</td>\n",
       "    </tr>\n",
       "    <tr>\n",
       "      <th>4</th>\n",
       "      <td>79.032736</td>\n",
       "      <td>75.344376</td>\n",
       "      <td>1</td>\n",
       "    </tr>\n",
       "  </tbody>\n",
       "</table>\n",
       "</div>"
      ],
      "text/plain": [
       "      Exam 1     Exam 2  Admitted\n",
       "0  34.623660  78.024693         0\n",
       "1  30.286711  43.894998         0\n",
       "2  35.847409  72.902198         0\n",
       "3  60.182599  86.308552         1\n",
       "4  79.032736  75.344376         1"
      ]
     },
     "execution_count": 4,
     "metadata": {},
     "output_type": "execute_result"
    }
   ],
   "source": [
    "path = '逻辑回归数据.txt'\n",
    "data = pd.read_csv(path, header=None, names=['Exam 1', 'Exam 2', 'Admitted'])\n",
    "data.head()"
   ]
  },
  {
   "cell_type": "code",
   "execution_count": 5,
   "id": "3c7f1b3d",
   "metadata": {},
   "outputs": [],
   "source": [
    "data.insert(0, 'Ones', 1)"
   ]
  },
  {
   "cell_type": "code",
   "execution_count": 6,
   "id": "7a6fc69e",
   "metadata": {
    "scrolled": true
   },
   "outputs": [],
   "source": [
    "X = data.iloc[:,:-1]\n",
    "y = data.iloc[:,-1]\n",
    "theta = np.zeros(3)"
   ]
  },
  {
   "cell_type": "markdown",
   "id": "3778034f",
   "metadata": {},
   "source": [
    "代码含义：👇1 / (1 + np.exp(-z))"
   ]
  },
  {
   "attachments": {
    "sigmoid.png": {
     "image/png": "[encoded data removed]"
    }
   },
   "cell_type": "markdown",
   "id": "c4d0e782",
   "metadata": {},
   "source": [
    "![sigmoid.png](attachment:sigmoid.png)"
   ]
  },
  {
   "cell_type": "code",
   "execution_count": 33,
   "id": "478fff6a",
   "metadata": {},
   "outputs": [],
   "source": [
    "\"我们的假设函数sigmoid\"\n",
    "def sigmoid(z):\n",
    "    return 1 / (1 + np.exp(-z))"
   ]
  },
  {
   "cell_type": "markdown",
   "id": "c54564fb",
   "metadata": {},
   "source": [
    "代码含义：👇 np.mean(-y * np.log(sigmoid(X @ theta)) - (1 - y) * np.log(1 - sigmoid(X @ theta)))"
   ]
  },
  {
   "attachments": {
    "log_cost.png": {
     "image/png": "[encoded data removed]"
    }
   },
   "cell_type": "markdown",
   "id": "13f40351",
   "metadata": {},
   "source": [
    "![log_cost.png](attachment:log_cost.png)"
   ]
  },
  {
   "cell_type": "code",
   "execution_count": 8,
   "id": "a65bc1af",
   "metadata": {},
   "outputs": [],
   "source": [
    "\"损失函数\"\n",
    "def cost(theta, X, y):\n",
    "    return np.mean(-y * np.log(sigmoid(X @ theta)) - (1 - y) * np.log(1 - sigmoid(X @ theta)))"
   ]
  },
  {
   "cell_type": "markdown",
   "id": "8021c87c",
   "metadata": {},
   "source": [
    "代码含义：👇 (1 / len(X)) * X.T @ (sigmoid(X @ theta) - y) ："
   ]
  },
  {
   "attachments": {
    "sigmoid_gd.png": {
     "image/png": "[encoded data removed]"
    }
   },
   "cell_type": "markdown",
   "id": "3381130c",
   "metadata": {},
   "source": [
    "![sigmoid_gd.png](attachment:sigmoid_gd.png)"
   ]
  },
  {
   "cell_type": "markdown",
   "id": "4fb3a881",
   "metadata": {},
   "source": [
    "注意，在逻辑回归的梯度下降虽然长得和线性回归基本一样，但这里的hθ是sigmoid，不是线性方程"
   ]
  },
  {
   "cell_type": "code",
   "execution_count": 9,
   "id": "9486b68d",
   "metadata": {},
   "outputs": [],
   "source": [
    "\"梯度下降\"\n",
    "def gradient(theta, X, y):\n",
    "    return (1 / len(X)) * X.T @ (sigmoid(X @ theta) - y)"
   ]
  },
  {
   "cell_type": "code",
   "execution_count": 10,
   "id": "ae3fda2b",
   "metadata": {
    "scrolled": false
   },
   "outputs": [
    {
     "data": {
      "text/plain": [
       "     fun: 0.20349770249211604\n",
       "     jac: array([2.67323741e-05, 1.76854178e-03, 1.64489142e-03])\n",
       " message: 'Optimization terminated successfully.'\n",
       "    nfev: 73\n",
       "    nhev: 0\n",
       "     nit: 29\n",
       "    njev: 204\n",
       "  status: 0\n",
       " success: True\n",
       "       x: array([-25.16376776,   0.20625197,   0.20149048])"
      ]
     },
     "execution_count": 10,
     "metadata": {},
     "output_type": "execute_result"
    }
   ],
   "source": [
    "\"简要介绍一下scipy，和pandas一样是一个以numpy为基础的数据科学包。pandas更多的用在金融商业场景；scipy则更偏向于科学与工程\"\n",
    "\"求最优解\"\n",
    "import scipy.optimize as opt\n",
    "result = opt.minimize(fun=cost, x0=theta, args=(X, y), method='Newton-CG', jac=gradient)\n",
    "result\n",
    "# 参数fun：损失函数\n",
    "# 参数x0：初始化参数θ\n",
    "# 参数args：传入fun中其余的参数\n",
    "# 参数method：计算梯度的方法，这里采用'Nweton-CG（牛顿共轭梯度算法）'；还有很多不同的方法：L-BFGS-B、BFGS、Nelder-Mead。。。。\n",
    "# 参数jac：计算梯度的函数"
   ]
  },
  {
   "cell_type": "code",
   "execution_count": 11,
   "id": "b5cfc9e2",
   "metadata": {
    "scrolled": false
   },
   "outputs": [
    {
     "data": {
      "text/plain": [
       "0.20349770249211604"
      ]
     },
     "execution_count": 11,
     "metadata": {},
     "output_type": "execute_result"
    }
   ],
   "source": [
    "\"\"\"optimize返回的结果类似于字典，我们可以通过 . 去访问其中的内容\n",
    "    其中的x是我们需要的：最优化的θ\n",
    "\"\"\"\n",
    "cost(result.x, X, y) #将最优化的θ代入cost函数计算一下损失值"
   ]
  },
  {
   "cell_type": "code",
   "execution_count": 12,
   "id": "f296b6f3",
   "metadata": {},
   "outputs": [],
   "source": [
    "\"预测分类\"\n",
    "def predict(x, theta):\n",
    "    prob = sigmoid(x @ theta) #将我们的样本x 与 最优θ放入sigmoid中进行预测\n",
    "    return (prob >= 0.5).astype(int) #这里很巧妙，利用prob>=0.5返回一个布尔数组，再利用astype(int)，为true的元素会向上取整变为1"
   ]
  },
  {
   "cell_type": "code",
   "execution_count": 13,
   "id": "554207aa",
   "metadata": {},
   "outputs": [
    {
     "name": "stdout",
     "output_type": "stream",
     "text": [
      "              precision    recall  f1-score   support\n",
      "\n",
      "           0       0.87      0.85      0.86        40\n",
      "           1       0.90      0.92      0.91        60\n",
      "\n",
      "    accuracy                           0.89       100\n",
      "   macro avg       0.89      0.88      0.88       100\n",
      "weighted avg       0.89      0.89      0.89       100\n",
      "\n"
     ]
    }
   ],
   "source": [
    "#查看分类后的各项结果。关于此包的更多内容：https://scikit-learn.org/stable/modules/generated/sklearn.metrics.classification_report.html#sklearn.metrics.classification_report\n",
    "from sklearn.metrics import classification_report\n",
    "final_theta = result.x\n",
    "y_pred = predict(X, final_theta)\n",
    "\n",
    "print(classification_report(y, y_pred))"
   ]
  },
  {
   "cell_type": "markdown",
   "id": "eff24bad",
   "metadata": {},
   "source": [
    "# scikit-learn用法"
   ]
  },
  {
   "cell_type": "code",
   "execution_count": 14,
   "id": "dfef28e4",
   "metadata": {},
   "outputs": [
    {
     "data": {
      "text/plain": [
       "LogisticRegression()"
      ]
     },
     "execution_count": 14,
     "metadata": {},
     "output_type": "execute_result"
    }
   ],
   "source": [
    "from sklearn.linear_model import LogisticRegression\n",
    "model =LogisticRegression() #将模型设置为逻辑回归模型\n",
    "model.fit(X,y) #拟合最优的模型"
   ]
  },
  {
   "cell_type": "code",
   "execution_count": 15,
   "id": "cc61e3bb",
   "metadata": {
    "scrolled": false
   },
   "outputs": [
    {
     "name": "stdout",
     "output_type": "stream",
     "text": [
      "              precision    recall  f1-score   support\n",
      "\n",
      "           0       0.87      0.85      0.86        40\n",
      "           1       0.90      0.92      0.91        60\n",
      "\n",
      "    accuracy                           0.89       100\n",
      "   macro avg       0.89      0.88      0.88       100\n",
      "weighted avg       0.89      0.89      0.89       100\n",
      "\n"
     ]
    }
   ],
   "source": [
    "print(classification_report(y, model.predict(X)))"
   ]
  }
 ],
 "metadata": {
  "kernelspec": {
   "display_name": "Python [conda env:Tableau-Python-Server]",
   "language": "python",
   "name": "conda-env-Tableau-Python-Server-py"
  },
  "language_info": {
   "codemirror_mode": {
    "name": "ipython",
    "version": 3
   },
   "file_extension": ".py",
   "mimetype": "text/x-python",
   "name": "python",
   "nbconvert_exporter": "python",
   "pygments_lexer": "ipython3",
   "version": "3.7.10"
  },
  "toc": {
   "base_numbering": 1,
   "nav_menu": {},
   "number_sections": true,
   "sideBar": true,
   "skip_h1_title": false,
   "title_cell": "Table of Contents",
   "title_sidebar": "Contents",
   "toc_cell": false,
   "toc_position": {},
   "toc_section_display": true,
   "toc_window_display": false
  }
 },
 "nbformat": 4,
 "nbformat_minor": 5
}
